{
 "cells": [
  {
   "cell_type": "markdown",
   "id": "d1afa3e3",
   "metadata": {},
   "source": [
    "# The Beginning\n",
    "\n",
    "To begin I'll start by creating directories for `ansible`, `python-asyncio`, and `go`.   Then I'll create some simple tests with Ansible to see how it works.   I'd like to create a framework without looking at the source code of any framework.  The goal of this project is to start with a fresh architecture that uses all the latest features of the latest languages to see what is possible with them.  "
   ]
  },
  {
   "cell_type": "code",
   "execution_count": null,
   "id": "4d74c3e0",
   "metadata": {},
   "outputs": [],
   "source": []
  },
  {
   "cell_type": "code",
   "execution_count": null,
   "id": "20629f26",
   "metadata": {},
   "outputs": [],
   "source": []
  }
 ],
 "metadata": {
  "kernelspec": {
   "display_name": "Python 3",
   "language": "python",
   "name": "python3"
  },
  "language_info": {
   "codemirror_mode": {
    "name": "ipython",
    "version": 3
   },
   "file_extension": ".py",
   "mimetype": "text/x-python",
   "name": "python",
   "nbconvert_exporter": "python",
   "pygments_lexer": "ipython3",
   "version": "3.8.5"
  }
 },
 "nbformat": 4,
 "nbformat_minor": 5
}
