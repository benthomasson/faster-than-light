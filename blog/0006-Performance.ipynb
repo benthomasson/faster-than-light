{
 "cells": [
  {
   "cell_type": "markdown",
   "id": "f9e34d81",
   "metadata": {},
   "source": [
    "# Performance\n",
    "\n",
    "From the very beginning of the project I'll be evaluating the performance and scalabilty of the implementations to determine if the project is worth pursuing."
   ]
  },
  {
   "cell_type": "code",
   "execution_count": 2,
   "id": "5f232e98",
   "metadata": {},
   "outputs": [],
   "source": [
    "%matplotlib inline"
   ]
  },
  {
   "cell_type": "code",
   "execution_count": 3,
   "id": "5b61da97",
   "metadata": {},
   "outputs": [],
   "source": [
    "import pandas"
   ]
  },
  {
   "cell_type": "code",
   "execution_count": 4,
   "id": "bc2ecc83",
   "metadata": {},
   "outputs": [],
   "source": [
    "df_ftl = pandas.read_csv('results/0.0.1-0-gb3e470e.csv')\n",
    "df_ansible = pandas.read_csv('results/2.10.9.csv')\n",
    "df = pandas.concat([df_ftl, df_ansible])\n",
    "#df"
   ]
  },
  {
   "cell_type": "code",
   "execution_count": 5,
   "id": "7faff05f",
   "metadata": {},
   "outputs": [],
   "source": [
    "df2 = df.pivot(index=\"n\", columns=\"name\", values=\"time\")\n",
    "#df2"
   ]
  },
  {
   "cell_type": "code",
   "execution_count": 6,
   "id": "37a64216",
   "metadata": {},
   "outputs": [
    {
     "data": {
      "text/plain": [
       "<AxesSubplot:title={'center':'Local Module Execution Duration'}, xlabel='num hosts', ylabel='time in seconds'>"
      ]
     },
     "execution_count": 6,
     "metadata": {},
     "output_type": "execute_result"
    },
    {
     "data": {
      "image/png": "[encoded data removed]",
      "text/plain": [
       "<Figure size 432x288 with 1 Axes>"
      ]
     },
     "metadata": {
      "needs_background": "light"
     },
     "output_type": "display_data"
    }
   ],
   "source": [
    "df2.plot.bar(title=\"Local Module Execution Duration\", ylabel=\"time in seconds\", xlabel=\"num hosts\")"
   ]
  },
  {
   "cell_type": "code",
   "execution_count": 7,
   "id": "f4ed001b",
   "metadata": {},
   "outputs": [],
   "source": [
    "ftl_speedup = df2['ansible'] / df2['ftl']\n",
    "ftl_speedup = pandas.DataFrame(ftl_speedup, columns=['ftl_speedup'])\n",
    "#ftl_speedup\n",
    "\n",
    "ftl_async_speedup = df2['ansible'] / df2['ftl_async']\n",
    "ftl_async_speedup = pandas.DataFrame(ftl_async_speedup, columns=['ftl_async_speedup'])\n",
    "#ftl_async_speedup\n",
    "\n",
    "df_speedup = pandas.concat([ftl_speedup, ftl_async_speedup], axis=1)\n",
    "df_speedup"
   ]
  },
  {
   "cell_type": "code",
   "execution_count": 73,
   "id": "f86cb117",
   "metadata": {},
   "outputs": [
    {
     "data": {
      "text/plain": [
       "<AxesSubplot:title={'center':'Speedup over Ansible 2.10.9'}, xlabel='num hosts', ylabel='speedup'>"
      ]
     },
     "execution_count": 73,
     "metadata": {},
     "output_type": "execute_result"
    },
    {
     "data": {
      "image/png": "[encoded data removed]",
      "text/plain": [
       "<Figure size 432x288 with 1 Axes>"
      ]
     },
     "metadata": {
      "needs_background": "light"
     },
     "output_type": "display_data"
    }
   ],
   "source": [
    "df_speedup.plot.bar(title=\"Speedup over Ansible 2.10.9\", xlabel=\"num hosts\", ylabel=\"speedup\")"
   ]
  },
  {
   "cell_type": "code",
   "execution_count": 18,
   "id": "033a63e4",
   "metadata": {},
   "outputs": [
    {
     "data": {
      "text/html": [
       "<div>\n",
       "<style scoped>\n",
       "    .dataframe tbody tr th:only-of-type {\n",
       "        vertical-align: middle;\n",
       "    }\n",
       "\n",
       "    .dataframe tbody tr th {\n",
       "        vertical-align: top;\n",
       "    }\n",
       "\n",
       "    .dataframe thead th {\n",
       "        text-align: right;\n",
       "    }\n",
       "</style>\n",
       "<table border=\"1\" class=\"dataframe\">\n",
       "  <thead>\n",
       "    <tr style=\"text-align: right;\">\n",
       "      <th></th>\n",
       "      <th>cmd</th>\n",
       "      <th>name</th>\n",
       "      <th>type</th>\n",
       "      <th>n</th>\n",
       "      <th>time</th>\n",
       "    </tr>\n",
       "  </thead>\n",
       "  <tbody>\n",
       "    <tr>\n",
       "      <th>0</th>\n",
       "      <td>ftl -i inventory_remote1.yml -M modules -m arg...</td>\n",
       "      <td>ftl_remote</td>\n",
       "      <td>argtest</td>\n",
       "      <td>1</td>\n",
       "      <td>0.764630</td>\n",
       "    </tr>\n",
       "    <tr>\n",
       "      <th>1</th>\n",
       "      <td>ftl -i inventory_remote10.yml -M modules -m ar...</td>\n",
       "      <td>ftl_remote</td>\n",
       "      <td>argtest</td>\n",
       "      <td>10</td>\n",
       "      <td>1.005892</td>\n",
       "    </tr>\n",
       "    <tr>\n",
       "      <th>2</th>\n",
       "      <td>ftl -i inventory_remote100.yml -M modules -m a...</td>\n",
       "      <td>ftl_remote</td>\n",
       "      <td>argtest</td>\n",
       "      <td>100</td>\n",
       "      <td>11.693291</td>\n",
       "    </tr>\n",
       "    <tr>\n",
       "      <th>3</th>\n",
       "      <td>ftl -i inventory_remote1000.yml -M modules -m ...</td>\n",
       "      <td>ftl_remote</td>\n",
       "      <td>argtest</td>\n",
       "      <td>1000</td>\n",
       "      <td>277.150600</td>\n",
       "    </tr>\n",
       "    <tr>\n",
       "      <th>0</th>\n",
       "      <td>ansible -M modules -i inventory_remote1.yml -m...</td>\n",
       "      <td>ansible_remote</td>\n",
       "      <td>argtest</td>\n",
       "      <td>1</td>\n",
       "      <td>1.043501</td>\n",
       "    </tr>\n",
       "    <tr>\n",
       "      <th>1</th>\n",
       "      <td>ansible -M modules -i inventory_remote10.yml -...</td>\n",
       "      <td>ansible_remote</td>\n",
       "      <td>argtest</td>\n",
       "      <td>10</td>\n",
       "      <td>2.073435</td>\n",
       "    </tr>\n",
       "    <tr>\n",
       "      <th>2</th>\n",
       "      <td>ansible -M modules -i inventory_remote100.yml ...</td>\n",
       "      <td>ansible_remote</td>\n",
       "      <td>argtest</td>\n",
       "      <td>100</td>\n",
       "      <td>20.927322</td>\n",
       "    </tr>\n",
       "    <tr>\n",
       "      <th>3</th>\n",
       "      <td>ansible -M modules -i inventory_remote1000.yml...</td>\n",
       "      <td>ansible_remote</td>\n",
       "      <td>argtest</td>\n",
       "      <td>1000</td>\n",
       "      <td>202.218750</td>\n",
       "    </tr>\n",
       "  </tbody>\n",
       "</table>\n",
       "</div>"
      ],
      "text/plain": [
       "                                                 cmd            name     type  \\\n",
       "0  ftl -i inventory_remote1.yml -M modules -m arg...      ftl_remote  argtest   \n",
       "1  ftl -i inventory_remote10.yml -M modules -m ar...      ftl_remote  argtest   \n",
       "2  ftl -i inventory_remote100.yml -M modules -m a...      ftl_remote  argtest   \n",
       "3  ftl -i inventory_remote1000.yml -M modules -m ...      ftl_remote  argtest   \n",
       "0  ansible -M modules -i inventory_remote1.yml -m...  ansible_remote  argtest   \n",
       "1  ansible -M modules -i inventory_remote10.yml -...  ansible_remote  argtest   \n",
       "2  ansible -M modules -i inventory_remote100.yml ...  ansible_remote  argtest   \n",
       "3  ansible -M modules -i inventory_remote1000.yml...  ansible_remote  argtest   \n",
       "\n",
       "      n        time  \n",
       "0     1    0.764630  \n",
       "1    10    1.005892  \n",
       "2   100   11.693291  \n",
       "3  1000  277.150600  \n",
       "0     1    1.043501  \n",
       "1    10    2.073435  \n",
       "2   100   20.927322  \n",
       "3  1000  202.218750  "
      ]
     },
     "execution_count": 18,
     "metadata": {},
     "output_type": "execute_result"
    }
   ],
   "source": [
    "remote_df_ftl = pandas.read_csv('results/remote_0.0.1-7-g54b4dbc.csv')\n",
    "remote_df_ansible = pandas.read_csv('results/remote_2.10.9.csv')\n",
    "remote_df = pandas.concat([remote_df_ftl, remote_df_ansible])\n",
    "remote_df"
   ]
  },
  {
   "cell_type": "code",
   "execution_count": 19,
   "id": "d89a41de",
   "metadata": {},
   "outputs": [
    {
     "data": {
      "text/html": [
       "<div>\n",
       "<style scoped>\n",
       "    .dataframe tbody tr th:only-of-type {\n",
       "        vertical-align: middle;\n",
       "    }\n",
       "\n",
       "    .dataframe tbody tr th {\n",
       "        vertical-align: top;\n",
       "    }\n",
       "\n",
       "    .dataframe thead th {\n",
       "        text-align: right;\n",
       "    }\n",
       "</style>\n",
       "<table border=\"1\" class=\"dataframe\">\n",
       "  <thead>\n",
       "    <tr style=\"text-align: right;\">\n",
       "      <th>name</th>\n",
       "      <th>ansible_remote</th>\n",
       "      <th>ftl_remote</th>\n",
       "    </tr>\n",
       "    <tr>\n",
       "      <th>n</th>\n",
       "      <th></th>\n",
       "      <th></th>\n",
       "    </tr>\n",
       "  </thead>\n",
       "  <tbody>\n",
       "    <tr>\n",
       "      <th>1</th>\n",
       "      <td>1.043501</td>\n",
       "      <td>0.764630</td>\n",
       "    </tr>\n",
       "    <tr>\n",
       "      <th>10</th>\n",
       "      <td>2.073435</td>\n",
       "      <td>1.005892</td>\n",
       "    </tr>\n",
       "    <tr>\n",
       "      <th>100</th>\n",
       "      <td>20.927322</td>\n",
       "      <td>11.693291</td>\n",
       "    </tr>\n",
       "    <tr>\n",
       "      <th>1000</th>\n",
       "      <td>202.218750</td>\n",
       "      <td>277.150600</td>\n",
       "    </tr>\n",
       "  </tbody>\n",
       "</table>\n",
       "</div>"
      ],
      "text/plain": [
       "name  ansible_remote  ftl_remote\n",
       "n                               \n",
       "1           1.043501    0.764630\n",
       "10          2.073435    1.005892\n",
       "100        20.927322   11.693291\n",
       "1000      202.218750  277.150600"
      ]
     },
     "execution_count": 19,
     "metadata": {},
     "output_type": "execute_result"
    }
   ],
   "source": [
    "remote_df2 = remote_df.pivot(index=\"n\", columns=\"name\", values=\"time\")\n",
    "remote_df2"
   ]
  },
  {
   "cell_type": "code",
   "execution_count": 21,
   "id": "f284bb6f",
   "metadata": {
    "scrolled": true
   },
   "outputs": [
    {
     "data": {
      "text/plain": [
       "<AxesSubplot:title={'center':'Remote Module Execution Duration'}, xlabel='num hosts', ylabel='time in seconds'>"
      ]
     },
     "execution_count": 21,
     "metadata": {},
     "output_type": "execute_result"
    },
    {
     "data": {
      "image/png": "[encoded data removed]",
      "text/plain": [
       "<Figure size 432x288 with 1 Axes>"
      ]
     },
     "metadata": {
      "needs_background": "light"
     },
     "output_type": "display_data"
    }
   ],
   "source": [
    "remote_df2.plot.bar(title=\"Remote Module Execution Duration\", ylabel=\"time in seconds\", xlabel=\"num hosts\")"
   ]
  },
  {
   "cell_type": "code",
   "execution_count": 23,
   "id": "1bcea92d",
   "metadata": {},
   "outputs": [
    {
     "data": {
      "text/html": [
       "<div>\n",
       "<style scoped>\n",
       "    .dataframe tbody tr th:only-of-type {\n",
       "        vertical-align: middle;\n",
       "    }\n",
       "\n",
       "    .dataframe tbody tr th {\n",
       "        vertical-align: top;\n",
       "    }\n",
       "\n",
       "    .dataframe thead th {\n",
       "        text-align: right;\n",
       "    }\n",
       "</style>\n",
       "<table border=\"1\" class=\"dataframe\">\n",
       "  <thead>\n",
       "    <tr style=\"text-align: right;\">\n",
       "      <th></th>\n",
       "      <th>ftl_speedup</th>\n",
       "    </tr>\n",
       "    <tr>\n",
       "      <th>n</th>\n",
       "      <th></th>\n",
       "    </tr>\n",
       "  </thead>\n",
       "  <tbody>\n",
       "    <tr>\n",
       "      <th>1</th>\n",
       "      <td>1.364714</td>\n",
       "    </tr>\n",
       "    <tr>\n",
       "      <th>10</th>\n",
       "      <td>2.061290</td>\n",
       "    </tr>\n",
       "    <tr>\n",
       "      <th>100</th>\n",
       "      <td>1.789686</td>\n",
       "    </tr>\n",
       "    <tr>\n",
       "      <th>1000</th>\n",
       "      <td>0.729635</td>\n",
       "    </tr>\n",
       "  </tbody>\n",
       "</table>\n",
       "</div>"
      ],
      "text/plain": [
       "      ftl_speedup\n",
       "n                \n",
       "1        1.364714\n",
       "10       2.061290\n",
       "100      1.789686\n",
       "1000     0.729635"
      ]
     },
     "execution_count": 23,
     "metadata": {},
     "output_type": "execute_result"
    }
   ],
   "source": [
    "ftl_speedup = remote_df2['ansible_remote'] / remote_df2['ftl_remote']\n",
    "ftl_speedup = pandas.DataFrame(ftl_speedup, columns=['ftl_speedup'])\n",
    "#ftl_speedup\n",
    "\n",
    "df_speedup = pandas.concat([ftl_speedup], axis=1)\n",
    "df_speedup"
   ]
  },
  {
   "cell_type": "code",
   "execution_count": 24,
   "id": "57abbe0d",
   "metadata": {},
   "outputs": [
    {
     "data": {
      "text/plain": [
       "<AxesSubplot:title={'center':'Speedup over Ansible 2.10.9'}, xlabel='num hosts', ylabel='speedup'>"
      ]
     },
     "execution_count": 24,
     "metadata": {},
     "output_type": "execute_result"
    },
    {
     "data": {
      "image/png": "[encoded data removed]",
      "text/plain": [
       "<Figure size 432x288 with 1 Axes>"
      ]
     },
     "metadata": {
      "needs_background": "light"
     },
     "output_type": "display_data"
    }
   ],
   "source": [
    "df_speedup.plot.bar(title=\"Speedup over Ansible 2.10.9\", xlabel=\"num hosts\", ylabel=\"speedup\")"
   ]
  },
  {
   "cell_type": "markdown",
   "id": "92002763",
   "metadata": {},
   "source": [
    "There is room for improvement at the 1000 host level."
   ]
  },
  {
   "cell_type": "code",
   "execution_count": null,
   "id": "af2c6e36",
   "metadata": {},
   "outputs": [],
   "source": []
  }
 ],
 "metadata": {
  "kernelspec": {
   "display_name": "Python 3",
   "language": "python",
   "name": "python3"
  },
  "language_info": {
   "codemirror_mode": {
    "name": "ipython",
    "version": 3
   },
   "file_extension": ".py",
   "mimetype": "text/x-python",
   "name": "python",
   "nbconvert_exporter": "python",
   "pygments_lexer": "ipython3",
   "version": "3.8.5"
  }
 },
 "nbformat": 4,
 "nbformat_minor": 5
}
