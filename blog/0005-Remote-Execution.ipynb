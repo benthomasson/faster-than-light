{
 "cells": [
  {
   "cell_type": "markdown",
   "id": "c33871f9",
   "metadata": {},
   "source": [
    "# Remote Execution\n",
    "\n",
    "Automation should be able to perform actions remotely on machines across a network."
   ]
  },
  {
   "cell_type": "code",
   "execution_count": null,
   "id": "4c363d3f",
   "metadata": {},
   "outputs": [],
   "source": []
  }
 ],
 "metadata": {
  "kernelspec": {
   "display_name": "Python 3",
   "language": "python",
   "name": "python3"
  },
  "language_info": {
   "codemirror_mode": {
    "name": "ipython",
    "version": 3
   },
   "file_extension": ".py",
   "mimetype": "text/x-python",
   "name": "python",
   "nbconvert_exporter": "python",
   "pygments_lexer": "ipython3",
   "version": "3.8.5"
  }
 },
 "nbformat": 4,
 "nbformat_minor": 5
}
