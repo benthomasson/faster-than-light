{
 "cells": [
  {
   "cell_type": "markdown",
   "id": "cd7f1822",
   "metadata": {},
   "source": [
    "# Performance And Scale\n",
    "\n",
    "A good way for experimentally determining the performance and scale of a program is to measure its performance against inputs of increasing size and plotting those results.    I prefer to use powers for 10 for most programs.   Powers of 2 could also be useful for certain programs where divide and conquer strategies are possible.\n",
    "\n",
    "Once the results are plotted we can estimate if the performance increases linearly with the size of inputs O(n) or worse O(n^2) or better O(1), O(log(n)).\n",
    "\n",
    "In most cases we are looking for O(n) performance, but if we can do better we certainly should.\n",
    "\n",
    "If we find that the performance is worse than linear than we should seriously look at the implementation and algorithms used.\n",
    "\n",
    "Even when we find that the performance is linear O(n) we should look at the constant factors of the speed to see if they can be improved.\n",
    "\n",
    "Here I will measure, plot results, and estimate the time complexity for FTL and Ansible.\n",
    "\n",
    "\n"
   ]
  },
  {
   "cell_type": "code",
   "execution_count": 1,
   "id": "25ff69eb",
   "metadata": {},
   "outputs": [],
   "source": [
    "%matplotlib inline"
   ]
  },
  {
   "cell_type": "code",
   "execution_count": 2,
   "id": "4e195927",
   "metadata": {},
   "outputs": [],
   "source": [
    "import pandas"
   ]
  },
  {
   "cell_type": "code",
   "execution_count": null,
   "id": "9c1c07ad",
   "metadata": {},
   "outputs": [],
   "source": []
  }
 ],
 "metadata": {
  "kernelspec": {
   "display_name": "Python 3 (ipykernel)",
   "language": "python",
   "name": "python3"
  },
  "language_info": {
   "codemirror_mode": {
    "name": "ipython",
    "version": 3
   },
   "file_extension": ".py",
   "mimetype": "text/x-python",
   "name": "python",
   "nbconvert_exporter": "python",
   "pygments_lexer": "ipython3",
   "version": "3.10.8"
  }
 },
 "nbformat": 4,
 "nbformat_minor": 5
}
