{
 "cells": [
  {
   "cell_type": "markdown",
   "id": "80b6e01e",
   "metadata": {},
   "source": [
    "# Faster Than Light\n",
    "\n",
    "The goal of this project is to explore the performance and scalability of automation using the latest languages and frameworks.   For comparison I'll use Ansible 2.10 as a benchmark for the performance and scalability measurements. "
   ]
  },
  {
   "cell_type": "markdown",
   "id": "2824f3e3",
   "metadata": {},
   "source": [
    "I plan to implement automation frameworks in Python 3 using asyncio and in Go.  "
   ]
  },
  {
   "cell_type": "markdown",
   "id": "52c0d953",
   "metadata": {},
   "source": [
    "I'll start by implementing an Ansible-compatible module execution library and CLI using Python 3 and asyncio.  "
   ]
  },
  {
   "cell_type": "markdown",
   "id": "2ceeca0f",
   "metadata": {},
   "source": [
    "Then I'll take initial performance and scalability measurements and present them here."
   ]
  },
  {
   "cell_type": "markdown",
   "id": "d9474350",
   "metadata": {},
   "source": [
    "After initial performance and scalability tests I'll move on to compatibility tests."
   ]
  },
  {
   "cell_type": "code",
   "execution_count": null,
   "id": "cf585d79",
   "metadata": {},
   "outputs": [],
   "source": []
  }
 ],
 "metadata": {
  "kernelspec": {
   "display_name": "Python 3",
   "language": "python",
   "name": "python3"
  },
  "language_info": {
   "codemirror_mode": {
    "name": "ipython",
    "version": 3
   },
   "file_extension": ".py",
   "mimetype": "text/x-python",
   "name": "python",
   "nbconvert_exporter": "python",
   "pygments_lexer": "ipython3",
   "version": "3.8.5"
  }
 },
 "nbformat": 4,
 "nbformat_minor": 5
}
